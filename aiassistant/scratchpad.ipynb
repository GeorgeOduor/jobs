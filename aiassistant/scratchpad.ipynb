{
 "cells": [
  {
   "cell_type": "code",
   "execution_count": 10,
   "metadata": {},
   "outputs": [],
   "source": [
    "from googledrive.drivetools import DriveTools\n",
    "from jobsites.linkedin import LinkedInScrap\n",
    "from blogspot.postingengine import *\n",
    "\n",
    "\n",
    "credsfile = \"googledrive/searchconsole-364317-ee5fb100ebef.json\"\n",
    "gd = DriveTools(credsfile, workbook=\"WebResults\")\n",
    "existing_jobs = gd.get_existing_jobs(2)\n",
    "jobs = LinkedInScrap(existing_jobs)\n",
    "joblisting = jobs.main(end=2)\n",
    "top50 = list(filter(None, joblisting[0]))\n",
    "\n",
    "\n",
    "top50[0][\"details\"][\"jobcriterialist\"]\n",
    "post_ = post_body(\n",
    "    company_logo=top50[0][\"company_logo\"],\n",
    "    companyname=top50[0][\"company\"],\n",
    "    location=top50[0][\"location\"],\n",
    "    postingdate=top50[0][\"posting_time\"],\n",
    "    job_desc=top50[0]['details']['job_desc_details'],\n",
    "    applicationlinks=top50[0][\"application_link\"],\n",
    ")"
   ]
  },
  {
   "cell_type": "code",
   "execution_count": 11,
   "metadata": {},
   "outputs": [],
   "source": []
  },
  {
   "cell_type": "code",
   "execution_count": null,
   "metadata": {},
   "outputs": [],
   "source": []
  },
  {
   "cell_type": "code",
   "execution_count": 14,
   "metadata": {},
   "outputs": [],
   "source": []
  },
  {
   "cell_type": "code",
   "execution_count": 15,
   "metadata": {},
   "outputs": [
    {
     "data": {
      "text/plain": [
       "<OpenAIObject text_completion id=cmpl-6ez8whbzZkUIOOnmC9DoTwnzRTdRR at 0x243ccb22590> JSON: {\n",
       "  \"choices\": [\n",
       "    {\n",
       "      \"finish_reason\": \"stop\",\n",
       "      \"index\": 0,\n",
       "      \"logprobs\": null,\n",
       "      \"text\": \"\\n\\nIceland! With its unique landscapes, stunning natural beauty, and vibrant culture, Iceland is one of the most enchanting and captivating places to visit in the world. Its dramatic fjords and glaciers, majestic mountains, hot springs, and waterfalls make it a must-see destination for anyone looking to explore the great outdoors. Not only that, but its capital city Reykjavik is home to some of the world's most exciting nightlife and the country's famed Northern Lights make it a magical place to visit. In addition, Iceland's culture, language, and cuisine make it a truly unique and unforgettable experience.\"\n",
       "    }\n",
       "  ],\n",
       "  \"created\": 1675226174,\n",
       "  \"id\": \"cmpl-6ez8whbzZkUIOOnmC9DoTwnzRTdRR\",\n",
       "  \"model\": \"text-davinci-003\",\n",
       "  \"object\": \"text_completion\",\n",
       "  \"usage\": {\n",
       "    \"completion_tokens\": 128,\n",
       "    \"prompt_tokens\": 11,\n",
       "    \"total_tokens\": 139\n",
       "  }\n",
       "}"
      ]
     },
     "execution_count": 15,
     "metadata": {},
     "output_type": "execute_result"
    }
   ],
   "source": [
    "response"
   ]
  }
 ],
 "metadata": {
  "kernelspec": {
   "display_name": "jobsenv",
   "language": "python",
   "name": "python3"
  },
  "language_info": {
   "codemirror_mode": {
    "name": "ipython",
    "version": 3
   },
   "file_extension": ".py",
   "mimetype": "text/x-python",
   "name": "python",
   "nbconvert_exporter": "python",
   "pygments_lexer": "ipython3",
   "version": "3.8.3"
  },
  "orig_nbformat": 4,
  "vscode": {
   "interpreter": {
    "hash": "3cdd2b1d8a903540a382ffdacd23b871908285f1e74077ccb749d19a5c9c7084"
   }
  }
 },
 "nbformat": 4,
 "nbformat_minor": 2
}
