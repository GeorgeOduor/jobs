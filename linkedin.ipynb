{
 "cells": [
  {
   "cell_type": "code",
   "execution_count": 1,
   "metadata": {},
   "outputs": [],
   "source": [
    "from requests_html import HTML,HTMLSession\n",
    "from bs4 import BeautifulSoup as bs\n",
    "import datetime\n",
    "import pandas as pd"
   ]
  },
  {
   "cell_type": "code",
   "execution_count": 2,
   "metadata": {},
   "outputs": [],
   "source": [
    "import requests\n",
    "\n",
    "def searchlinkedinjobs(start=0):\n",
    "    params = {\n",
    "        'keywords': '',\n",
    "        'location': 'Kenya',\n",
    "        'geoId': '100710459',\n",
    "        'trk': 'public_jobs_jobs-search-bar_search-submit',\n",
    "        'start' : start\n",
    "    }\n",
    "    response = requests.get('https://www.linkedin.com/jobs-guest/jobs/api/seeMoreJobPostings/search', params=params)\n",
    "    return response\n",
    "\n",
    "response = searchlinkedinjobs()"
   ]
  },
  {
   "cell_type": "code",
   "execution_count": null,
   "metadata": {},
   "outputs": [],
   "source": [
    "def external_link(job_link):\n",
    "    resp = requests.get(job_link)\n",
    "    soup = bs(resp.text, 'html.parser')\n",
    "    apply_btn_link = soup.find(class_= 'sign-up-modal__direct-apply-on-company-site').find(\"a\").get('href')\n",
    "    apply_btn_link = requests.get(apply_btn_link).url\n",
    "    return apply_btn_link\n",
    "\n",
    "def jobdetails_info(job_api_details):\n",
    "    resp = requests.get(job_api_details)\n",
    "    jobdesc = bs(resp.text,'html.parser')\n",
    "    job_desc_details = jobdesc.find(class_ = 'show-more-less-html__markup show-more-less-html__markup--clamp-after-5')\n",
    "    jobcriterialist = [{\n",
    "        i.find(class_ = \"description__job-criteria-subheader\").text.strip():\n",
    "        i.find(class_ = \"description__job-criteria-subheader\").find_next_sibling().text.strip()\n",
    "\n",
    "    } for i in jobdesc.find(\"ul\",class_ = \"description__job-criteria-list\").find_all(\"li\")]\n",
    "\n",
    "    out = {\n",
    "        'jobcriterialist':jobcriterialist,\n",
    "        'job_desc_details':job_desc_details\n",
    "    }\n",
    "    return out\n",
    "\n",
    "\n",
    "def jobdetails(listings):\n",
    "    try:\n",
    "        job_title    = listings.find(class_=\"base-search-card__title\").text.strip()\n",
    "        company      = listings.find(class_=\"base-search-card__subtitle\").text.strip()\n",
    "        # location     = listings.find(class_ = 'job-search-card__location').text.strip()\n",
    "        job_link     = listings.find(class_ =\"base-card__full-link\")\n",
    "        if job_link:\n",
    "            job_link = job_link.get(\"href\")\n",
    "            jobid = job_link.split(\"?\")[0].split(\"-\")[-1]\n",
    "            job_api_details = f\"https://ke.linkedin.com/jobs-guest/jobs/api/jobPosting/{jobid}\"\n",
    "            # get link to application\n",
    "            print(\"Getting application details\")\n",
    "            application_link = external_link(job_link)\n",
    "            print(\"Getting details\")\n",
    "            details = jobdetails_info(job_api_details)\n",
    "        company_link = listings.find(class_ = \"hidden-nested-link\")\n",
    "        if company_link:\n",
    "            company_link = company_link.get('href')\n",
    "        company_logo = listings.find(\"div\",class_ = \"search-entity-media\").find(\"img\").get(\"data-delayed-url\")\n",
    "        location     = listings.find(class_ = \"job-search-card__location\").text.strip()\n",
    "        posting_time = listings.time.get('datetime')\n",
    "\n",
    "        res = {\n",
    "            \"job_title\"       :  job_title,\n",
    "            \"company\"         :  company,\n",
    "            \"job_link\"        :  job_link,\n",
    "            \"job_id\"          :  jobid,\n",
    "            \"application_link\":  application_link,\n",
    "            \"job_api_details\" :  job_api_details,\n",
    "            \"company_logo\"    :  company_logo,\n",
    "            \"location\"        :  location,\n",
    "            \"posting_time\"    :  posting_time,\n",
    "            \"crawl_time\"      :  str(datetime.datetime.now()),\n",
    "            \"url\"             :  response.url,\n",
    "            \"details\"         :  details\n",
    "\n",
    "        }\n",
    "        return res\n",
    "    except Exception as e:\n",
    "        ...\n",
    "    \n",
    "start = 0\n",
    "jd = []\n",
    "while True:\n",
    "    print(\"getting links\")\n",
    "    response = searchlinkedinjobs(start)\n",
    "    soup = bs(response.text, 'html.parser').find_all(\"li\")\n",
    "    print(\"Parsing getting links\")\n",
    "    for i in range(len(soup)):\n",
    "        jd.append(jobdetails(soup[i]))\n",
    "    start = start + 25\n",
    "    print('current start', start,end = \"\\r\")\n",
    "    if start >= 50:\n",
    "        break"
   ]
  },
  {
   "cell_type": "code",
   "execution_count": 13,
   "metadata": {},
   "outputs": [
    {
     "data": {
      "text/plain": [
       "<div class=\"show-more-less-html__markup show-more-less-html__markup--clamp-after-5\">\n",
       "<strong>Position title</strong> Cleaner IBO<p><br/></p><strong>Working location IBO Nairobi</strong><p><br/></p><strong> Region Eastern &amp; Southern Africa (ESAF</strong>)<p><br/></p><strong>Mission of the position </strong><p><br/></p>Cleaner is responsible for maintaining overal hygiene and cleanliness of all offices, toilets, boardrooms, storerooms and other facilities of the work place.<p><br/></p><strong>Main clients </strong><p><br/></p><ul><li>IB Coworkers.</li><li>Head of Mission.</li><li>Visitors.</li></ul><p><br/></p><strong>Key performance areas and main responsibilities </strong><p><br/></p><strong>Priority Task And Responsibilities</strong><p><br/></p><ul><li>Requests for and receives cleaning materials well in advance not to run short. Uses material economically (avoid misusing cleaning materials).</li><li>Requests for and receives office consumables and materials like coffee, tea, milk, water, toilet paper etc.</li><li>Refilling supplies such as tissue papers, paper towels, hand sanitisers, air freshners etc</li><li>Cleans work places assigned (offices, toilets, boardrooms, storerooms and other facilities).</li><li>Outside cleaning time, provides refreshments for visitors as well as for staff meetings and tea breaks.</li><li>Participates in providing similar services in special events.</li><li>Maintains all cleaning materials and refreshment equipment assigned in good condition.</li><li>Advise the supervisor on any requirements or equipment necessary to ensure that the facilities remain clean and in good condition</li><li>Carries out any additional clerical tasks provided by the supervisor.</li></ul><p><br/></p><strong>Knowledge, skills, qualifications, abilities and behavioral competences</strong><p><br/></p><u> Requirement</u><p><br/></p><ul><li>Applicants for the office cleaner position must have a O-Level Education (Kenya Certificate of Secondary Examination-KCSE). </li><li>Certification in housekeeping will be an added advantage</li></ul><p><br/></p><u>Essential</u><p><br/></p><ul><li>3 years’ of experience in a similar position </li><li>Basic knowledge of cleaning products, including chemicals and supplies, and methods used in office cleaning</li><li>Basic understanding of Safety Data Sheets (SDSs)</li><li>Ability to competently operate floor scrubbing machines, floor buffers, and wet and dry vacuums</li><li>Good Communication skills with ability to communicate effectively in English</li><li>Good Interpersonal skills with ability to establish and maintain effective working relationships with team members, co-workers, or clients</li><li>Detail orientation To perform the job of an office cleaner successfully, the individual must give attention to detail when cleaning</li><li>Organizational skills Office cleaners must also be organized individuals with the ability to follow a schedule in a timely manner and adapt to changing schedules or routines</li><li>Physical dexterity The job of an office cleaner is manually inclined, so it is important that they are energetic and can lift up small equipment without assistance. The person must be must be able to reach, stretch, bend, and walk during daily routine, and stand for a long duration with ease.</li></ul><p><br/></p><u>Desirable</u><p><br/></p><ul><li>Basic knowledge of Ms office</li></ul>\n",
       "</div>"
      ]
     },
     "execution_count": 13,
     "metadata": {},
     "output_type": "execute_result"
    }
   ],
   "source": [
    "jd[1]['details']['job_desc_details']\n"
   ]
  },
  {
   "cell_type": "code",
   "execution_count": null,
   "metadata": {},
   "outputs": [],
   "source": [
    "job_api_details = jd[0]['job_api_details']\n",
    "\n",
    "# def jobdetails_info(job_api_details):\n",
    "resp = requests.get(job_api_details)\n",
    "jobdesc = bs(resp.text,'html.parser')\n",
    "job_desc_details = jobdesc.find(class_ = 'show-more-less-html__markup show-more-less-html__markup--clamp-after-5')\n",
    "jobcriterialist = [{\n",
    "    i.find(class_ = \"description__job-criteria-subheader\").text.strip():\n",
    "    i.find(class_ = \"description__job-criteria-subheader\").find_next_sibling().text.strip()\n",
    "\n",
    "} for i in jobdesc.find(\"ul\",class_ = \"description__job-criteria-list\").find_all(\"li\")]\n",
    "\n",
    "# out = {\n",
    "#     'jobcriterialist':jobcriterialist,\n",
    "#     'job_desc_details':job_desc_details\n",
    "# }\n",
    "# return out\n",
    "jobdesc.find(\"ul\",class_ = \"description__job-criteria-list\").find_all(\"li\")[0]\n",
    "{key: value for (key, value) in (a.items() + b.items())}"
   ]
  },
  {
   "cell_type": "code",
   "execution_count": 308,
   "metadata": {},
   "outputs": [],
   "source": [
    "4 "
   ]
  },
  {
   "cell_type": "code",
   "execution_count": 312,
   "metadata": {},
   "outputs": [
    {
     "data": {
      "text/html": [
       "<div>\n",
       "<style scoped>\n",
       "    .dataframe tbody tr th:only-of-type {\n",
       "        vertical-align: middle;\n",
       "    }\n",
       "\n",
       "    .dataframe tbody tr th {\n",
       "        vertical-align: top;\n",
       "    }\n",
       "\n",
       "    .dataframe thead th {\n",
       "        text-align: right;\n",
       "    }\n",
       "</style>\n",
       "<table border=\"1\" class=\"dataframe\">\n",
       "  <thead>\n",
       "    <tr style=\"text-align: right;\">\n",
       "      <th></th>\n",
       "      <th>Seniority level</th>\n",
       "      <th>Employment type</th>\n",
       "      <th>Job function</th>\n",
       "      <th>Industries</th>\n",
       "    </tr>\n",
       "  </thead>\n",
       "  <tbody>\n",
       "    <tr>\n",
       "      <th>0</th>\n",
       "      <td>Entry level</td>\n",
       "      <td>NaN</td>\n",
       "      <td>NaN</td>\n",
       "      <td>NaN</td>\n",
       "    </tr>\n",
       "    <tr>\n",
       "      <th>1</th>\n",
       "      <td>NaN</td>\n",
       "      <td>Full-time</td>\n",
       "      <td>NaN</td>\n",
       "      <td>NaN</td>\n",
       "    </tr>\n",
       "    <tr>\n",
       "      <th>2</th>\n",
       "      <td>NaN</td>\n",
       "      <td>NaN</td>\n",
       "      <td>Administrative</td>\n",
       "      <td>NaN</td>\n",
       "    </tr>\n",
       "    <tr>\n",
       "      <th>3</th>\n",
       "      <td>NaN</td>\n",
       "      <td>NaN</td>\n",
       "      <td>NaN</td>\n",
       "      <td>International Affairs</td>\n",
       "    </tr>\n",
       "  </tbody>\n",
       "</table>\n",
       "</div>"
      ],
      "text/plain": [
       "  Seniority level Employment type    Job function             Industries\n",
       "0     Entry level             NaN             NaN                    NaN\n",
       "1             NaN       Full-time             NaN                    NaN\n",
       "2             NaN             NaN  Administrative                    NaN\n",
       "3             NaN             NaN             NaN  International Affairs"
      ]
     },
     "execution_count": 312,
     "metadata": {},
     "output_type": "execute_result"
    }
   ],
   "source": [
    "pd.DataFrame(jobcriterialist)"
   ]
  },
  {
   "cell_type": "code",
   "execution_count": 264,
   "metadata": {},
   "outputs": [
    {
     "data": {
      "text/plain": [
       "'https://careers.un.org/lbw/jobdetail.aspx?id=194140'"
      ]
     },
     "execution_count": 264,
     "metadata": {},
     "output_type": "execute_result"
    }
   ],
   "source": [
    "apply_btn_link"
   ]
  },
  {
   "cell_type": "code",
   "execution_count": 216,
   "metadata": {},
   "outputs": [
    {
     "data": {
      "text/plain": [
       "<Response [200]>"
      ]
     },
     "execution_count": 216,
     "metadata": {},
     "output_type": "execute_result"
    }
   ],
   "source": [
    "import requests\n",
    "from bs4 import BeautifulSoup\n",
    "\n",
    "# Set the search query\n",
    "query = \"kcb bank kenya\"\n",
    "\n",
    "# Send an HTTP request to Google with the search query\n",
    "html = requests.get(f\"https://ke.linkedin.com/jobs/view/externalApply/3384864222?url=https%3A%2F%2Ftymeglobal%2Esnaphunt%2Ecom%2Fjob%2F7JVLN6HBMD-KE-103%3Fsource%3Dlinkedin&amp;urlHash=hEjr&amp;refId=GI%2FPjyzRUFvcHxi%2Fo962Gw%3D%3D&amp;trackingId=GK7EJH6OCnT9ajX7NGej3Q%3D%3D&amp;trk=public_jobs_apply-link-offsite_sign-up-modal-sign-up-later\")\n",
    "\n",
    "\n"
   ]
  },
  {
   "cell_type": "code",
   "execution_count": 218,
   "metadata": {},
   "outputs": [
    {
     "data": {
      "text/plain": [
       "'https://tymeglobal.snaphunt.com/job/7JVLN6HBMD-KE-103?source=linkedin'"
      ]
     },
     "execution_count": 218,
     "metadata": {},
     "output_type": "execute_result"
    }
   ],
   "source": []
  },
  {
   "cell_type": "code",
   "execution_count": 140,
   "metadata": {},
   "outputs": [
    {
     "data": {
      "text/plain": [
       "<HTML url='https://ke.linkedin.com/jobs/view/warehouse-officer-at-l-or%C3%A9al-3402845830?refId=UinZ4fyWsD6AHWCUC%2BDDmg%3D%3D&trackingId=MYch%2FhsZIXpezg9WRap4fA%3D%3D&position=2&pageNum=0&trk=public_jobs_jserp-result_search-card'>"
      ]
     },
     "execution_count": 140,
     "metadata": {},
     "output_type": "execute_result"
    }
   ],
   "source": [
    "# soupsession = session.get(jd[1]['job_link'])\n",
    "soupsession.html.xpath('//*[@id=\"topbar-apply\"]')\n",
    "# soupsession.get_attribute('href')\n",
    "soupsession.html"
   ]
  },
  {
   "cell_type": "code",
   "execution_count": 195,
   "metadata": {},
   "outputs": [
    {
     "name": "stdout",
     "output_type": "stream",
     "text": [
      "https://ke.linkedin.com/jobs/view/externalApply/3403724027?url=https%3A%2F%2Floa%2Eavature%2Enet%2Fcareers%2FJobDetail%2F140699&urlHash=3sbQ&refId=UinZ4fyWsD6AHWCUC%2BDDmg%3D%3D&trackingId=MYch%2FhsZIXpezg9WRap4fA%3D%3D&trk=public_jobs_apply-link-offsite_sign-up-modal-sign-up-later\n"
     ]
    }
   ],
   "source": [
    "url_ = \"https://ke.linkedin.com/jobs/view/externalApply/3403724027?url=https%3A%2F%2Floa%2Eavature%2Enet%2Fcareers%2FJobDetail%2F140699&urlHash=3sbQ&refId=UinZ4fyWsD6AHWCUC%2BDDmg%3D%3D&trackingId=MYch%2FhsZIXpezg9WRap4fA%3D%3D&trk=public_jobs_apply-link-offsite_sign-up-modal-sign-up-later\"\n",
    "from urllib.parse import urlparse, parse_qs\n",
    "print(url_)"
   ]
  },
  {
   "cell_type": "code",
   "execution_count": 177,
   "metadata": {},
   "outputs": [
    {
     "data": {
      "text/plain": [
       "{'url': ['https://loa.avature.net/careers/JobDetail/140699'],\n",
       " 'urlHash': ['3sbQ'],\n",
       " 'refId': ['UinZ4fyWsD6AHWCUC+DDmg=='],\n",
       " 'trackingId': ['MYch/hsZIXpezg9WRap4fA=='],\n",
       " 'trk': ['public_jobs_apply-link-offsite_sign-up-modal-sign-up-later']}"
      ]
     },
     "execution_count": 177,
     "metadata": {},
     "output_type": "execute_result"
    }
   ],
   "source": [
    "parsed_url = urlparse(url_)\n",
    "# soupsession.request.query_params\n",
    "parsed_url.query\n",
    "url_data = parse_qs(parsed_url.query)\n",
    "url_data"
   ]
  },
  {
   "cell_type": "code",
   "execution_count": 182,
   "metadata": {},
   "outputs": [
    {
     "data": {
      "text/plain": [
       "ParseResult(scheme='https', netloc='ke.linkedin.com', path='/jobs/view/externalApply/3403724027', params='', query='url=https%3A%2F%2Floa%2Eavature%2Enet%2Fcareers%2FJobDetail%2F140699&urlHash=3sbQ&refId=UinZ4fyWsD6AHWCUC%2BDDmg%3D%3D&trackingId=MYch%2FhsZIXpezg9WRap4fA%3D%3D&trk=public_jobs_apply-link-offsite_sign-up-modal-sign-up-later', fragment='')"
      ]
     },
     "execution_count": 182,
     "metadata": {},
     "output_type": "execute_result"
    }
   ],
   "source": [
    "parsed_url"
   ]
  },
  {
   "cell_type": "code",
   "execution_count": 191,
   "metadata": {},
   "outputs": [],
   "source": [
    "\n",
    "\n",
    "params = {'param1': 'value1', 'param2': 'value2'}\n",
    "\n",
    "# Encode the parameters as a query string\n",
    "# query_string = urlencode(params)\n",
    "# query_string\n",
    "\n",
    "scheme ='https'\n",
    "netloc = 'ke.linkedin.com'\n",
    "path = '/jobs/view/externalApply/3403724027'\n",
    "params = {\n",
    "    'url': 'https://loa.avature.net/careers/JobDetail/140699',\n",
    "    'urlHash': '3sbQ',\n",
    "    'refId': 'UinZ4fyWsD6AHWCUC+DDmg==',\n",
    "    'trackingId': 'MYch/hsZIXpezg9WRap4fA==',\n",
    "    'trk': 'public_jobs_apply-link-offsite_sign-up-modal-sign-up-later'\n",
    "    }\n",
    "main_link = {\n",
    "    \"scheme\": scheme,\n",
    "    \"netloc\": netloc,\n",
    "    \"path\": path,\n",
    "    \"params\": params,\n",
    "    \"query\": urlencode(params),\n",
    "    \"fragment\": ''\n",
    "    }\n",
    "url_ = urlunparse(main_link)\n",
    "# url_\n",
    "# print(url_)\n",
    "url = f\"{scheme}://{netloc}{path}?{urlencode(params)}\"\n"
   ]
  },
  {
   "cell_type": "code",
   "execution_count": 196,
   "metadata": {},
   "outputs": [],
   "source": [
    "job = session.get(url_)"
   ]
  },
  {
   "cell_type": "code",
   "execution_count": 197,
   "metadata": {},
   "outputs": [
    {
     "data": {
      "text/plain": [
       "'https://ke.linkedin.com/jobs/view/externalApply/3403724027?url=https%3A%2F%2Floa.avature.net%2Fcareers%2FJobDetail%2F140699&urlHash=3sbQ&refId=UinZ4fyWsD6AHWCUC%2BDDmg%3D%3D&trackingId=MYch%2FhsZIXpezg9WRap4fA%3D%3D&trk=public_jobs_apply-link-offsite_sign-up-modal-sign-up-later'"
      ]
     },
     "execution_count": 197,
     "metadata": {},
     "output_type": "execute_result"
    }
   ],
   "source": [
    "job.url"
   ]
  }
 ],
 "metadata": {
  "kernelspec": {
   "display_name": "python3",
   "language": "python",
   "name": "python3"
  },
  "language_info": {
   "codemirror_mode": {
    "name": "ipython",
    "version": 3
   },
   "file_extension": ".py",
   "mimetype": "text/x-python",
   "name": "python",
   "nbconvert_exporter": "python",
   "pygments_lexer": "ipython3",
   "version": "3.8.5"
  },
  "orig_nbformat": 4,
  "vscode": {
   "interpreter": {
    "hash": "f2d8c51bd3a146371b35dc07395dc11b47d148125df559186866420d41b29388"
   }
  }
 },
 "nbformat": 4,
 "nbformat_minor": 2
}
